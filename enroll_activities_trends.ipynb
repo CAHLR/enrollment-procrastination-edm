{
 "cells": [
  {
   "cell_type": "markdown",
   "id": "29c3cdfa",
   "metadata": {},
   "source": [
    "## Enrollment activities trends"
   ]
  },
  {
   "cell_type": "markdown",
   "id": "a88b0730",
   "metadata": {},
   "source": [
    "This notebook calculates and graphs weekly enrollment activities (adds, drops, waitlists, swaps) trends"
   ]
  },
  {
   "cell_type": "markdown",
   "id": "ae88aa5a",
   "metadata": {},
   "source": [
    "### preprocess transaction data"
   ]
  },
  {
   "cell_type": "code",
   "execution_count": null,
   "id": "741e2e24",
   "metadata": {},
   "outputs": [],
   "source": [
    "import pandas as pd\n",
    "from tqdm import tqdm\n",
    "\n",
    "df = pd.read_csv(TRANSACTION_DATA)\n",
    "\n",
    "semester_dict = {'2012 Fall': 2128,'2013 Spring': 2132,'2013 Summer': 2135,'2013 Fall': 2138,'2014 Spring': 2142,'2014 Summer': 2145,'2014 Fall': 2148,'2015 Spring': 2152,'2015 Summer': 2155,'2015 Fall': 2158,'2016 Spring': 2162,'2016 Summer': 2165,'2016 Fall': 2168,'2017 Spring': 2172,'2017 Summer': 2175,'2017 Fall': 2178,'2018 Spring': 2182,'2018 Summer': 2185,'2018 Fall': 2188,'2019 Spring': 2192,'2019 Summer': 2195,'2019 Fall': 2198,'2020 Spring': 2202,'2020 Summer': 2205,'2020 Fall': 2208,'2021 Spring': 2212,'2021 Summer': 2215,'2021 Fall': 2218,'2022 Spring': 2222,'2022 Summer': 2225,'2022 Fall': 2228}\n",
    "semester_dict = {v: k for k, v in semester_dict.items()}\n",
    "\n",
    "df['semester_clean'] = df.semester_year_term_cd.map(semester_dict)\n",
    "df['course_clean'] = df.subject_desc.map(str)  + ' ' + df['course_number'].map(str) \n",
    "\n",
    "df_filtered = df[ (df['action_affects_enrollment_status_flag']=='Y') & (df['enrollment_intitiator_type']=='Student')]"
   ]
  },
  {
   "cell_type": "markdown",
   "id": "52eab6c2",
   "metadata": {},
   "source": [
    "### calculate course swaps"
   ]
  },
  {
   "cell_type": "code",
   "execution_count": null,
   "id": "5ada28d2",
   "metadata": {},
   "outputs": [],
   "source": [
    "def get_swaps_result_df(df_filtered):\n",
    "    '''\n",
    "    given a transaction dataframe, return dataframe with swap pairs \n",
    "    \n",
    "    '''\n",
    "    df_swaps=df_filtered[(df_filtered['enrollment_request_action_cd']=='S') & ~(df_filtered['class_number'].isna()) & ~(df_filtered['change_to_class_nbr'].isna())]\n",
    "    swaps_request_id = df_swaps[df_swaps['row_type']=='SWAP_ENRL']['enrollment_request_id']\n",
    "    swap_result_df=pd.DataFrame([],columns=['original_course','swapped_course', 'semester_clean', 'timestamp', 'student_id', 'initiator'])\n",
    "    for si in tqdm(swaps_request_id):\n",
    "        swap_rows = df_swaps[df_swaps['enrollment_request_id']==si]\n",
    "        base = swap_rows[swap_rows['row_type']=='BASE']\n",
    "        swap = swap_rows[swap_rows['row_type']=='SWAP_ENRL']\n",
    "        swap_result_df.loc[-1] = [base['course_clean'].values[0],swap['course_clean'].values[0], base['semester_clean'].values[0],base['enrollment_request_tmsp'].values[0], base['student_id'].values[0], base['enrollment_intitiator_type'].values[0]]\n",
    "        swap_result_df.index = swap_result_df.index + 1  # shifting index\n",
    "        swap_result_df = swap_result_df.sort_index()\n",
    "    return  swap_result_df[swap_result_df['original_course']!=swap_result_df['swapped_course']]"
   ]
  },
  {
   "cell_type": "code",
   "execution_count": null,
   "id": "482e3bc9",
   "metadata": {},
   "outputs": [],
   "source": [
    "swap_result = get_swaps_result_df(df_filtered)"
   ]
  },
  {
   "cell_type": "markdown",
   "id": "2517b513",
   "metadata": {},
   "source": [
    "### calculate weekly average waitlists, enrolls, and drops"
   ]
  },
  {
   "cell_type": "code",
   "execution_count": null,
   "id": "60faa580",
   "metadata": {},
   "outputs": [],
   "source": [
    "from collections import defaultdict\n",
    "import tqdm\n",
    "wl_per_week = {}\n",
    "er_per_week = {}\n",
    "dp_per_week = {}\n",
    "\n",
    "## get mean enrollment action per week \n",
    "for s in tqdm.tqdm(fa_sems):\n",
    "    try:\n",
    "        sem_df = df_filtered[df_filtered['semester_clean']==s]\n",
    "        sem_df['timestamp_date'] = sem_df['enrollment_request_tmsp'].str[:10]\n",
    "        sem_df['week_num'] = sem_df.apply(lambda x: output_week_based_on_date(x['semester_clean'],x['timestamp_date']),axis=1)\n",
    "        waitlist_data = sem_df[sem_df['student_enrollment_status_outcome_cd'] == 'W']\n",
    "        mean_waitlist_per_week = waitlist_data.groupby(['student_id', 'week_num'])['course_clean'].nunique().groupby('week_num').mean()\n",
    "\n",
    "        enroll_data = sem_df[sem_df['student_enrollment_status_outcome_cd'] == 'E']\n",
    "        mean_enroll_per_week = enroll_data.groupby(['student_id', 'week_num'])['course_clean'].nunique().groupby('week_num').mean()\n",
    "\n",
    "        drop_data = sem_df[sem_df['student_enrollment_status_outcome_cd'] == 'D']\n",
    "        mean_drop_per_week = drop_data.groupby(['student_id', 'week_num'])['course_clean'].nunique().groupby('week_num').mean()\n",
    "\n",
    "        wl_per_week[s]= mean_waitlist_per_week\n",
    "        er_per_week[s]= mean_enroll_per_week\n",
    "        dp_per_week[s] = mean_drop_per_week\n",
    "    except:\n",
    "        pass\n",
    "  \n"
   ]
  },
  {
   "cell_type": "code",
   "execution_count": null,
   "id": "6a4e2966",
   "metadata": {},
   "outputs": [],
   "source": [
    "er_per_week=pd.DataFrame.from_dict(er_per_week, orient='index')\n",
    "er_per_week=list(er_per_week.mean(axis=0))\n",
    "\n",
    "wl_per_week=pd.DataFrame.from_dict(wl_per_week, orient='index')\n",
    "wl_per_week=list(wl_per_week.mean(axis=0))\n",
    "\n",
    "dp_per_week=pd.DataFrame.from_dict(dp_per_week, orient='index')\n",
    "dp_per_week=list(dp_per_week.mean(axis=0))\n",
    "\n",
    "intermed = swap_result.groupby(['student_id','week_num']).agg({'timestamp':'count'}).reset_index()\n",
    "swaps_per_week = intermed.groupby('week_num').agg({'timestamp':'mean'})"
   ]
  },
  {
   "cell_type": "markdown",
   "id": "a3e3b50b",
   "metadata": {},
   "source": [
    "## graph activities trend"
   ]
  },
  {
   "cell_type": "code",
   "execution_count": null,
   "id": "93b00882",
   "metadata": {},
   "outputs": [],
   "source": [
    "import matplotlib.pyplot as plt\n",
    "plt.plot(wl_per_week, label='waitlist')\n",
    "plt.plot(er_per_week, label = 'enroll')\n",
    "plt.plot(dp_per_week, label = 'drop')\n",
    "plt.plot(swaps_per_week['timestamp'], label = 'swaps')\n",
    "\n",
    "\n",
    "plt.legend(loc='upper right', bbox_to_anchor=(1, 1))\n",
    "plt.title('Mean number of courses per week')\n",
    "plt.xlabel('Week')\n",
    "plt.ylabel('Mean number of courses')\n",
    "\n",
    "vertical_line_position= 0\n",
    "plt.axvline(x=vertical_line_position, color = 'silver', linestyle='--')\n",
    "plt.annotate('Phase 1 begins', xy=(vertical_line_position, 1.1), xytext=(vertical_line_position + 0.1, 1.1),)\n",
    "\n",
    "vertical_line_position= 10\n",
    "plt.axvline(x=vertical_line_position, color = 'silver', linestyle='--')\n",
    "plt.annotate('Phase 1 begins (new student)', xy=(vertical_line_position, 1.8), xytext=(vertical_line_position + 0.1, 1.8),)\n",
    "\n",
    "vertical_line_position= 11\n",
    "\n",
    "plt.axvline(x=vertical_line_position, color = 'silver', linestyle='--')\n",
    "plt.annotate('Phase 2 begins', xy=(vertical_line_position, 2), xytext=(vertical_line_position + 0.1, 2),)\n",
    "vertical_line_position=17\n",
    "plt.axvline(x=vertical_line_position, color = 'silver', linestyle='--')\n",
    "plt.annotate('Add/drop period begins', xy=(vertical_line_position, 2.15), xytext=(vertical_line_position + 0.1, 2.15),)\n",
    "vertical_line_position=18\n",
    "\n",
    "plt.axvline(x=vertical_line_position, color = 'silver', linestyle='--')\n",
    "plt.annotate('Instruction begins', xy=(vertical_line_position, 2.3), xytext=(vertical_line_position + 0.1, 2.3),)\n",
    "\n",
    "\n",
    "vertical_line_position=20\n",
    "plt.axvline(x=vertical_line_position, color = 'silver', linestyle='--')\n",
    "plt.annotate('Add/drop deadline', xy=(vertical_line_position,2.5), xytext=(vertical_line_position + 0.1,2.5),)\n",
    "\n",
    "vertical_line_position=23\n",
    "plt.axvline(x=vertical_line_position, color = 'silver', linestyle='--')\n",
    "plt.annotate('Late add/drop deadline', xy=(vertical_line_position,2.7), xytext=(vertical_line_position + 0.1,2.7),)\n",
    "\n",
    "plt.xlabel('Week')\n",
    "plt.legend(loc='center left', bbox_to_anchor=(1, 0.3))\n"
   ]
  }
 ],
 "metadata": {
  "kernelspec": {
   "display_name": "Python 3 (ipykernel)",
   "language": "python",
   "name": "python3"
  },
  "language_info": {
   "codemirror_mode": {
    "name": "ipython",
    "version": 3
   },
   "file_extension": ".py",
   "mimetype": "text/x-python",
   "name": "python",
   "nbconvert_exporter": "python",
   "pygments_lexer": "ipython3",
   "version": "3.10.12"
  }
 },
 "nbformat": 4,
 "nbformat_minor": 5
}
