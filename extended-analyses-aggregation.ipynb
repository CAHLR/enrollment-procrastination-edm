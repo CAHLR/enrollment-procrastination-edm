{
 "cells": [
  {
   "cell_type": "code",
   "execution_count": null,
   "id": "41dc9fc6",
   "metadata": {},
   "outputs": [],
   "source": [
    "import pandas as pd\n",
    "from tqdm import tqdm"
   ]
  },
  {
   "cell_type": "code",
   "execution_count": null,
   "id": "bf49dd12",
   "metadata": {},
   "outputs": [],
   "source": [
    "path='/data/groups/CTd/'"
   ]
  },
  {
   "cell_type": "markdown",
   "id": "b639d8f2",
   "metadata": {},
   "source": [
    "## Read in data\n"
   ]
  },
  {
   "cell_type": "code",
   "execution_count": null,
   "id": "1efdf4a1",
   "metadata": {},
   "outputs": [],
   "source": [
    "def process_file(f, suffix):\n",
    "    tmp=pd.read_csv(path+f,low_memory=False)\n",
    "    if 'Unnamed: 0' in tmp.columns:\n",
    "        tmp.drop(columns=['Unnamed: 0'], inplace=True)\n",
    "    if suffix!='':\n",
    "        tmp.columns=[c+suffix if c not in ['semester_clean', 'student_id'] else c for c in tmp.columns]\n",
    "    return tmp"
   ]
  },
  {
   "cell_type": "code",
   "execution_count": null,
   "id": "cadc617c",
   "metadata": {},
   "outputs": [],
   "source": [
    "fs = [\n",
    "    ('procrastinator_modal_activity_range_std_D_all_phases.csv', ''),\n",
    "    ('procrastinator_modal_activity_range_std_W_all_phases.csv', ''),\n",
    "    ('procrastinator_modal_activity_range_std_E_all_phases.csv', ''),\n",
    "    ('procrastinator_modal_activity_range_std_all_actions_all_phases.csv', ''),\n",
    "    ('procrastinator_modal_activity_range_std_all_actions.csv', ''),\n",
    "    ('procrastinator_modal_activity_range_std_D.csv', ''),\n",
    "    ('procrastinator_modal_activity_range_std_W.csv', ''),\n",
    "    ('procrastinator_modal_activity_range_std_E.csv', '')\n",
    "]"
   ]
  },
  {
   "cell_type": "code",
   "execution_count": null,
   "id": "afc950fc",
   "metadata": {},
   "outputs": [],
   "source": [
    "df_outcomes=pd.read_csv(path+'student_semester_dropped_courses_units.csv').fillna(0)\n",
    "for index, (f, suff) in tqdm(enumerate(fs)):\n",
    "    tmp=process_file(f, suff)\n",
    "    df_outcomes=df_outcomes.merge(tmp,how='left',on=['student_id','semester_clean'])"
   ]
  },
  {
   "cell_type": "code",
   "execution_count": null,
   "id": "3346be8f",
   "metadata": {},
   "outputs": [],
   "source": [
    "columns = ['semester_clean',\n",
    " 'student_id',\n",
    " 'relative_location_btw_phase1_add_drop_ddl_D_all_phases',\n",
    " 'relative_location_btw_phase1_add_drop_ddl_E_all_phases',\n",
    " 'relative_location_btw_phase1_add_drop_ddl_all_actions_all_phases',\n",
    " 'diff_std_normalized_btw_phase1_add_drop_ddl_E_all_phases',\n",
    " 'diff_std_normalized_btw_phase1_add_drop_ddl_D_all_phases',\n",
    " 'diff_std_normalized_btw_phase1_add_drop_ddl_all_actions_all_phases',\n",
    " 'total_dropped_units', 'total_late_dropped_units']"
   ]
  },
  {
   "cell_type": "code",
   "execution_count": null,
   "id": "afc61881",
   "metadata": {},
   "outputs": [],
   "source": [
    "df_outcomes_cleaned = df_outcomes[columns].copy()"
   ]
  },
  {
   "cell_type": "code",
   "execution_count": null,
   "id": "3af16a81",
   "metadata": {},
   "outputs": [],
   "source": [
    "[c for c in df_outcomes_cleaned.columns if c in ['semester_clean', 'student_id'] or 'relative_location' in c or 'diff_std_normalized' in c]"
   ]
  },
  {
   "cell_type": "markdown",
   "id": "c58571f2",
   "metadata": {},
   "source": [
    "## Control variables for regression modeling and preparing export"
   ]
  },
  {
   "cell_type": "code",
   "execution_count": null,
   "id": "838a22bc",
   "metadata": {},
   "outputs": [],
   "source": [
    "df_outcomes_cleaned['phase1_add_drop_noE_SD'] =\\\n",
    "    df_outcomes_cleaned['diff_std_normalized_btw_phase1_add_drop_ddl_E_all_phases']\\\n",
    "    .map(lambda x: 1 if pd.isna(x) else 0)\n",
    "\n",
    "df_outcomes_cleaned['phase1_add_drop_noD_SD'] =\\\n",
    "    df_outcomes_cleaned['diff_std_normalized_btw_phase1_add_drop_ddl_D_all_phases']\\\n",
    "    .map(lambda x: 1 if pd.isna(x) else 0)"
   ]
  },
  {
   "cell_type": "code",
   "execution_count": null,
   "id": "b1dac852",
   "metadata": {},
   "outputs": [],
   "source": [
    "df_outcomes_cleaned['diff_std_normalized_btw_phase1_add_drop_ddl_E_all_phases'] =\\\n",
    "    df_outcomes_cleaned['diff_std_normalized_btw_phase1_add_drop_ddl_E_all_phases']\\\n",
    "    .map(lambda x: 0 if pd.isna(x) else x)\n",
    "\n",
    "df_outcomes_cleaned['diff_std_normalized_btw_phase1_add_drop_ddl_D_all_phases'] =\\\n",
    "    df_outcomes_cleaned['diff_std_normalized_btw_phase1_add_drop_ddl_D_all_phases']\\\n",
    "    .map(lambda x: 0 if pd.isna(x) else x)"
   ]
  },
  {
   "cell_type": "code",
   "execution_count": null,
   "id": "7741850c",
   "metadata": {},
   "outputs": [],
   "source": [
    "# Remove NA\n",
    "df_model=df_outcomes_cleaned.dropna()"
   ]
  },
  {
   "cell_type": "markdown",
   "id": "c2b0e371",
   "metadata": {},
   "source": [
    "## Export for Further Processing"
   ]
  },
  {
   "cell_type": "code",
   "execution_count": null,
   "id": "56a6d3b3",
   "metadata": {},
   "outputs": [],
   "source": [
    "# Export\n",
    "df_model.to_csv('df_model-procrastination-v1.csv', index=False)"
   ]
  },
  {
   "cell_type": "markdown",
   "id": "d0c084d1-9515-4d8f-949d-b21871eff6e1",
   "metadata": {},
   "source": [
    "## Longitudinal Workload Aggregation"
   ]
  },
  {
   "cell_type": "code",
   "execution_count": null,
   "id": "f936b4b5-9560-4a52-af79-e7527840391d",
   "metadata": {},
   "outputs": [],
   "source": [
    "import seaborn as sns\n",
    "\n",
    "import glob\n",
    "\n",
    "files = glob.glob(\"/data/groups/CTd/daily_basket_cla_ch/*student_daily_basket_cla_ch.csv\")\n",
    "print(files)\n",
    "\n",
    "import numpy as np\n",
    "import pandas as pd\n",
    "import tqdm\n",
    "dfs = []\n",
    "for f in tqdm.tqdm(files):\n",
    "    dfs.append(pd.read_csv(f))\n",
    "\n",
    "df_concat = pd.concat(dfs)\n",
    "\n",
    "# df_concat = df_concat[['student_id', 'semester_clean','day_num', 'tl', 'me', 'ps', 'cl', 'ch']]\n",
    "df_concat.replace(0, np.nan, inplace=True)\n",
    "\n",
    "# Export time series of load per student\n",
    "df_concat['cl_standardized'] = (df_concat['cl'] - df_concat['cl'].mean(skipna=True)) / df_concat['cl'].std(skipna=True)\n",
    "df_concat['ch_standardized'] = (df_concat['ch'] - df_concat['ch'].mean(skipna=True)) / df_concat['ch'].std(skipna=True)\n",
    "df_concat['cla_disc'] = df_concat['cl_standardized'] - df_concat['ch_standardized']\n",
    "\n",
    "# Take max day --> equal to late add/drop deadline ('change to grading option')\n",
    "d_sem_lastday = df_concat.groupby('semester_clean').day_num.max().to_dict()\n",
    "\n",
    "df_concat['is_deadline_day'] = df_concat['semester_clean'].map(d_sem_lastday) == df_concat['day_num']\n",
    "\n",
    "df_workloads_export = df_concat\\\n",
    "    [df_concat['is_deadline_day']]\\\n",
    "    [['student_id', 'semester_clean', 'cl', 'ch', 'cla_disc']]\\\n",
    "    .dropna()\\\n",
    "    .groupby(['student_id', 'semester_clean'])\\\n",
    "    [['cl', 'ch', 'cla_disc']].mean().reset_index() # nunique() returns 1. Checked\n",
    "\n",
    "df_workloads_export.to_csv('/data/groups/CTd/longitudinal-workloads-jedm-v3.csv', index=False)"
   ]
  }
 ],
 "metadata": {
  "kernelspec": {
   "display_name": "Python 3 (ipykernel)",
   "language": "python",
   "name": "python3"
  },
  "language_info": {
   "codemirror_mode": {
    "name": "ipython",
    "version": 3
   },
   "file_extension": ".py",
   "mimetype": "text/x-python",
   "name": "python",
   "nbconvert_exporter": "python",
   "pygments_lexer": "ipython3",
   "version": "3.10.12"
  }
 },
 "nbformat": 4,
 "nbformat_minor": 5
}
