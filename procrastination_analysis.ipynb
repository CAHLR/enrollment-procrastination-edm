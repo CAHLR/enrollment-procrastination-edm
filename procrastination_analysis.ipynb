{
 "cells": [
  {
   "cell_type": "markdown",
   "id": "03efc279",
   "metadata": {},
   "source": [
    "## Procrastination analysis"
   ]
  },
  {
   "cell_type": "markdown",
   "id": "226b6e76",
   "metadata": {},
   "source": [
    "This notebook calculates procrastinator and regular index, and identify procrastinator student-semester pairs."
   ]
  },
  {
   "cell_type": "code",
   "execution_count": null,
   "id": "300b3838",
   "metadata": {},
   "outputs": [],
   "source": [
    "import pandas as pd\n",
    "from datetime import datetime\n",
    "from dateutil.relativedelta import relativedelta\n",
    "import time\n",
    "from datetime import datetime, timedelta\n",
    "\n",
    "df = pd.read_csv(TRANSACTION_DATA)\n",
    "semester_dict = {'2012 Fall': 2128,'2013 Spring': 2132,'2013 Summer': 2135,'2013 Fall': 2138,'2014 Spring': 2142,'2014 Summer': 2145,'2014 Fall': 2148,'2015 Spring': 2152,'2015 Summer': 2155,'2015 Fall': 2158,'2016 Spring': 2162,'2016 Summer': 2165,'2016 Fall': 2168,'2017 Spring': 2172,'2017 Summer': 2175,'2017 Fall': 2178,'2018 Spring': 2182,'2018 Summer': 2185,'2018 Fall': 2188,'2019 Spring': 2192,'2019 Summer': 2195,'2019 Fall': 2198,'2020 Spring': 2202,'2020 Summer': 2205,'2020 Fall': 2208,'2021 Spring': 2212,'2021 Summer': 2215,'2021 Fall': 2218,'2022 Spring': 2222,'2022 Summer': 2225,'2022 Fall': 2228}\n",
    "semester_dict = {v: k for k, v in semester_dict.items()}\n",
    "df['semester_clean'] = df.semester_year_term_cd.map(semester_dict)\n",
    "df['course_clean'] = df.subject_desc.map(str)  + ' ' + df['course_number'].map(str) \n",
    "\n",
    "## filter data to only contain actions that affect student enrollment status & are initiated by students\n",
    "\n",
    "df_filtered = df[ (df['action_affects_enrollment_status_flag']=='Y') & (df['enrollment_intitiator_type']=='Student')]\n"
   ]
  },
  {
   "cell_type": "code",
   "execution_count": null,
   "id": "8be87745",
   "metadata": {},
   "outputs": [],
   "source": [
    "## load add drop calendar\n",
    "add_drop_cal = pd.read_excel('add drop calendar fa16-fa22 (1) (1).xlsx')\n"
   ]
  },
  {
   "cell_type": "markdown",
   "id": "d0b04e76",
   "metadata": {},
   "source": [
    "### split transaction data into enrollment phases "
   ]
  },
  {
   "cell_type": "markdown",
   "id": "370620f3",
   "metadata": {},
   "source": [
    "phase 1, phase 2, add-drop period, late add-drop"
   ]
  },
  {
   "cell_type": "code",
   "execution_count": null,
   "id": "671fe9e8",
   "metadata": {},
   "outputs": [],
   "source": [
    "during_phase_1_enroll = df_filtered_w_ddl[(df_filtered_w_ddl['enrollment_request_tmsp']>=df_filtered_w_ddl['phase 1 starts']) & (df_filtered_w_ddl['enrollment_request_tmsp']<=df_filtered_w_ddl['phase 1 ends'])]\n",
    "during_phase_2_enroll = df_filtered_w_ddl[(df_filtered_w_ddl['enrollment_request_tmsp']>=df_filtered_w_ddl['phase 2 starts']) & (df_filtered_w_ddl['enrollment_request_tmsp']<=df_filtered_w_ddl['phase 2 ends'])]\n",
    "add_drop = df_filtered_w_ddl[(df_filtered_w_ddl['enrollment_request_tmsp']>=df_filtered_w_ddl['adjustment starts']) & (df_filtered_w_ddl['enrollment_request_tmsp']<=df_filtered_w_ddl['Deadline to add/drop or swap/change units for classes – undergrad'])]\n",
    "late_drop = df_filtered_w_ddl[(df_filtered_w_ddl['enrollment_request_tmsp']>=df_filtered_w_ddl['Deadline to add/drop or swap/change units for classes – undergrad'])]"
   ]
  },
  {
   "cell_type": "code",
   "execution_count": null,
   "id": "3d76540e",
   "metadata": {},
   "outputs": [],
   "source": [
    "def get_std_of_diff(tmsp_series):\n",
    "    return pd.Series(tmsp_series).diff().std()"
   ]
  },
  {
   "cell_type": "code",
   "execution_count": null,
   "id": "8cefe121",
   "metadata": {},
   "outputs": [],
   "source": [
    "import numpy as np\n",
    "def get_enroll_action_range_std_result_df(df, phase_start_col, phase_end_col, phase_name):\n",
    "    \n",
    "   \n",
    "    '''\n",
    "    get the normalized range and regularity of activities (std of difference between the actions)\n",
    "    \n",
    "    inputs:\n",
    "        - df = transaction data of a specific enrollment phase\n",
    "        - phase_start_col(str) = the column that indicates the date for the beginning of the phase\n",
    "        - phase_end_col(str) = the column that indicates the dates for the end of the phase\n",
    "        - phase_name (str)\n",
    "    outputs:\n",
    "        - result dataframe with the columns:\n",
    "            'semester_clean', 'student_id', 'days_range_'+phase_name, 'std_'+phase_name,'diff_std_'+phase_name, 'std_normalized_'+ phase_name,'diff_std_normalized_'+ phase_name,'range_normalized_'+ phase_name\n",
    "    \n",
    "    \n",
    "    '''\n",
    "    enroll_range_std_df = df.sort_values('enrollment_request_tmsp', ascending = True).groupby(['semester_clean', 'student_id']).agg({'enrollment_request_tmsp':['first', 'last', np.std,get_std_of_diff ]}).reset_index()\n",
    "    enroll_range_std_df.columns = enroll_range_std_df.columns.map(''.join)\n",
    "    \n",
    "    df['length_phase'] = (df[phase_end_col] - df[phase_start_col])\n",
    "    \n",
    "    semester_phase_len = df[[ 'semester_clean','length_phase']].drop_duplicates()\n",
    "    \n",
    "    enroll_range_std_df = enroll_range_std_df.merge(semester_phase_len, on ='semester_clean')\n",
    "    \n",
    "    enroll_range_std_df['days_range'] = (enroll_range_std_df['enrollment_request_tmsplast'] - enroll_range_std_df['enrollment_request_tmspfirst'])\n",
    "\n",
    "    enroll_range_std_df.rename(columns = {'enrollment_request_tmspstd': 'std_'+phase_name, 'enrollment_request_tmspget_std_of_diff':'diff_std_'+phase_name}, inplace = True)\n",
    "    \n",
    "    enroll_range_std_df['std_normalized_'+ phase_name] = enroll_range_std_df['std_'+phase_name] / enroll_range_std_df['length_phase']\n",
    "    \n",
    "    enroll_range_std_df['diff_std_normalized_'+ phase_name] = enroll_range_std_df['diff_std_'+phase_name] / enroll_range_std_df['length_phase']\n",
    "    \n",
    "    enroll_range_std_df['range_normalized_' + phase_name] = enroll_range_std_df['days_range'] / enroll_range_std_df['length_phase']\n",
    "    \n",
    "    enroll_range_std_df.rename(columns = {'days_range':'days_range_'+phase_name},inplace = True)\n",
    "    \n",
    "    return enroll_range_std_df[['semester_clean', 'student_id', 'days_range_'+phase_name, 'std_'+phase_name,'diff_std_'+phase_name, 'std_normalized_'+ phase_name,'diff_std_normalized_'+ phase_name,'range_normalized_'+ phase_name ]]\n",
    "     "
   ]
  },
  {
   "cell_type": "code",
   "execution_count": null,
   "id": "aefa8ed2",
   "metadata": {},
   "outputs": [],
   "source": [
    "enroll_action_range_std_result_df_p1 = get_enroll_action_range_std_result_df(during_phase_1_enroll, 'phase 1 starts', 'phase 2 starts', 'p1', None)"
   ]
  },
  {
   "cell_type": "code",
   "execution_count": null,
   "id": "6fcc3693",
   "metadata": {},
   "outputs": [],
   "source": [
    "enroll_action_range_std_result_df_p2 = get_enroll_action_range_std_result_df(during_phase_2_enroll,'phase 2 starts', 'phase 2 ends', 'phase_2', None)\n"
   ]
  },
  {
   "cell_type": "code",
   "execution_count": null,
   "id": "5fc3909c",
   "metadata": {},
   "outputs": [],
   "source": [
    "enroll_action_range_std_result_df_add_drop = get_enroll_action_range_std_result_df(add_drop,'adjustment starts', 'Deadline to add/drop or swap/change units for classes – undergrad', 'add_drop', None)\n"
   ]
  },
  {
   "cell_type": "markdown",
   "id": "95453998",
   "metadata": {},
   "source": [
    "### get procrastinator student-semester pairs"
   ]
  },
  {
   "cell_type": "code",
   "execution_count": null,
   "id": "5f5d741d",
   "metadata": {},
   "outputs": [],
   "source": [
    "df_modal = enroll_action_range_std_result_df_p1"
   ]
  },
  {
   "cell_type": "code",
   "execution_count": null,
   "id": "324a9c96",
   "metadata": {},
   "outputs": [],
   "source": [
    "relative_loc_cols = df_modal.filter(regex='relative_location').columns"
   ]
  },
  {
   "cell_type": "markdown",
   "id": "a47e21f2",
   "metadata": {},
   "source": [
    "#### we define a procrastinator as someone that enrolls/waitlists later than the median time during the enrollment phase"
   ]
  },
  {
   "cell_type": "code",
   "execution_count": null,
   "id": "8f30a82a",
   "metadata": {},
   "outputs": [],
   "source": [
    "procastinator_student_sems = []\n",
    "for rel_loc in relative_loc_cols:\n",
    "    rel_loc_med = df_modal[rel_loc].median()\n",
    "    procastinator_student_sems.append(df_modal[df_modal[rel_loc]>rel_loc_med][['semester_clean','student_id' ]]) "
   ]
  },
  {
   "cell_type": "code",
   "execution_count": null,
   "id": "dcd9a3a7",
   "metadata": {},
   "outputs": [],
   "source": [
    "procastinator_student_sems = pd.concat(procastinator_student_sems).drop_duplicates()"
   ]
  },
  {
   "cell_type": "code",
   "execution_count": null,
   "id": "1e4f440e",
   "metadata": {},
   "outputs": [],
   "source": [
    "procastinator_student_sems.to_csv('procrast_student_sems.csv')"
   ]
  },
  {
   "cell_type": "markdown",
   "id": "8f33df72",
   "metadata": {},
   "source": [
    "the student-semester pairs can then be used as to plot basket size/workload of procrastinators vs. non-procrastinators"
   ]
  }
 ],
 "metadata": {
  "kernelspec": {
   "display_name": "Python 3 (ipykernel)",
   "language": "python",
   "name": "python3"
  },
  "language_info": {
   "codemirror_mode": {
    "name": "ipython",
    "version": 3
   },
   "file_extension": ".py",
   "mimetype": "text/x-python",
   "name": "python",
   "nbconvert_exporter": "python",
   "pygments_lexer": "ipython3",
   "version": "3.10.12"
  }
 },
 "nbformat": 4,
 "nbformat_minor": 5
}
