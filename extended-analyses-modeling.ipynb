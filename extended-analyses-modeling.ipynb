{
 "cells": [
  {
   "cell_type": "code",
   "execution_count": null,
   "id": "350b4e0b",
   "metadata": {},
   "outputs": [],
   "source": [
    "import pandas as pd\n",
    "import numpy as np"
   ]
  },
  {
   "cell_type": "code",
   "execution_count": null,
   "id": "1026f7ea-8c63-4cf5-8347-7d353e22144b",
   "metadata": {},
   "outputs": [],
   "source": [
    "from tqdm import tqdm"
   ]
  },
  {
   "cell_type": "code",
   "execution_count": null,
   "id": "c057bf42",
   "metadata": {},
   "outputs": [],
   "source": [
    "df = pd.read_csv('df_model-procrastination-cb-v1.csv')"
   ]
  },
  {
   "cell_type": "code",
   "execution_count": null,
   "id": "1d700f7b",
   "metadata": {},
   "outputs": [],
   "source": [
    "df_workloads = pd.read_csv('/data/groups/CTd/longitudinal-workloads-jedm-v2.csv')"
   ]
  },
  {
   "cell_type": "code",
   "execution_count": null,
   "id": "3505b706",
   "metadata": {},
   "outputs": [],
   "source": [
    "df_analysis = df[['student_id', 'semester_clean', \n",
    "    'relative_location_btw_phase1_add_drop_ddl_E_all_phases',\n",
    "   'total_late_dropped_units']].rename(columns={\n",
    "    'relative_location_btw_phase1_add_drop_ddl_E_all_phases': 'enrollment_procrastination',\n",
    "    'total_late_dropped_units': 'late_dropped_units'\n",
    "}).merge(df_workloads, how='left', on=['student_id', 'semester_clean']).dropna()"
   ]
  },
  {
   "cell_type": "markdown",
   "id": "be4d6e3d-74eb-41f2-8130-5ca21c7e6b02",
   "metadata": {},
   "source": [
    "## What course are late dropped out of the basket?"
   ]
  },
  {
   "cell_type": "code",
   "execution_count": null,
   "id": "20128118-a329-47f7-ba40-5b69332bb3c8",
   "metadata": {},
   "outputs": [],
   "source": [
    "fa_17_course_load = pd.read_csv('/data/groups/CTd/cla-predictions/predicted-course-loads-2017 Fall.csv')\n",
    "sp_17_course_load = pd.read_csv('/data/groups/CTd/cla-predictions/predicted-course-loads-2017 Spring.csv')\n",
    "fa_18_course_load = pd.read_csv('/data/groups/CTd/cla-predictions/predicted-course-loads-2018 Fall.csv')\n",
    "sp_18_course_load = pd.read_csv('/data/groups/CTd/cla-predictions/predicted-course-loads-2018 Spring.csv')\n",
    "fa_19_course_load = pd.read_csv('/data/groups/CTd/cla-predictions/predicted-course-loads-2019 Fall.csv')\n",
    "sp_19_course_load = pd.read_csv('/data/groups/CTd/cla-predictions/predicted-course-loads-2019 Spring.csv')\n",
    "fa_20_course_load = pd.read_csv('/data/groups/CTd/cla-predictions/predicted-course-loads-2020 Fall.csv')\n",
    "sp_20_course_load = pd.read_csv('/data/groups/CTd/cla-predictions/predicted-course-loads-2020 Spring.csv')\n",
    "sp_21_course_load = pd.read_csv('/data/groups/CTd/cla-predictions/predicted-course-loads-2021 Spring.csv')\n",
    "\n",
    "course_load_df_dict={'2017 Fall': fa_17_course_load,\n",
    "                    '2017 Spring': sp_17_course_load,\n",
    "                     '2018 Fall': fa_18_course_load,\n",
    "                     '2018 Spring': sp_18_course_load,\n",
    "                    '2019 Fall': fa_19_course_load,\n",
    "                     '2019 Spring': sp_19_course_load,\n",
    "                     '2020 Fall': fa_20_course_load,\n",
    "                     '2020 Spring': sp_20_course_load,\n",
    "                     '2021 Spring': sp_21_course_load,\n",
    "                    }\n",
    "\n",
    "course_load_concat = pd.concat(course_load_df_dict).reset_index()\n",
    "course_load_concat = course_load_concat[['level_0','course_name_number', 'tl1', 'me', 'ps',\n",
    "       'cl_combined']]\n",
    "course_load_concat.columns=['semester_clean', 'course_clean','time_load','mental_effort','psych_stress', 'cl_combined']"
   ]
  },
  {
   "cell_type": "code",
   "execution_count": null,
   "id": "83b35a79-8543-4ee5-9083-17f6b4868a1a",
   "metadata": {},
   "outputs": [],
   "source": [
    "cla_dict = {}\n",
    "for _, row in course_load_concat.iterrows():\n",
    "    semester = row[\"semester_clean\"]\n",
    "    course = row[\"course_clean\"]\n",
    "    cl_combined = row[\"cl_combined\"]\n",
    "    if semester not in cla_dict:\n",
    "        cla_dict[semester] = {}\n",
    "    cla_dict[semester][course] = cl_combined"
   ]
  },
  {
   "cell_type": "code",
   "execution_count": null,
   "id": "856c8daf-fdaf-4423-ba6e-93f550c6514b",
   "metadata": {},
   "outputs": [],
   "source": [
    "# Add overall\n",
    "all_courses = set()\n",
    "for semester, d_cla in cla_dict.items():\n",
    "    for course, cla in d_cla.items():\n",
    "        all_courses.add(course)\n",
    "cla_overall = dict()\n",
    "for a_course in tqdm(all_courses):\n",
    "    course_cla = []\n",
    "    for semester, d_cla in cla_dict.items():\n",
    "        for course, cla in d_cla.items():\n",
    "            if course == a_course:\n",
    "                course_cla.append(cla)\n",
    "    cla_overall[a_course] = np.mean(course_cla)\n",
    "    #print(len(course_cla))"
   ]
  },
  {
   "cell_type": "code",
   "execution_count": null,
   "id": "3cf5990b-7b59-4350-98d2-964424959e71",
   "metadata": {},
   "outputs": [],
   "source": [
    "cla_dict['overall'] = cla_overall"
   ]
  },
  {
   "cell_type": "code",
   "execution_count": null,
   "id": "098e3aa5-b18b-4236-9c36-6c295ab62cdf",
   "metadata": {},
   "outputs": [],
   "source": [
    "all_courses = pd.read_pickle('/data/groups/CTd/add_drop_courses_by_student_semester.pkl')"
   ]
  },
  {
   "cell_type": "code",
   "execution_count": null,
   "id": "5f4ec8c9-8081-4734-b46a-4a8322e35ca0",
   "metadata": {},
   "outputs": [],
   "source": [
    "dropped_courses = pd.read_pickle('/data/groups/CTd/late_dropped_courses_by_student_semester.pkl')"
   ]
  },
  {
   "cell_type": "code",
   "execution_count": null,
   "id": "6eaa26fc-6ced-49d4-88cf-e8b15cad1167",
   "metadata": {},
   "outputs": [],
   "source": [
    "df_courses = all_courses.merge(dropped_courses, how='outer', on=['student_id', 'semester_clean'])"
   ]
  },
  {
   "cell_type": "code",
   "execution_count": null,
   "id": "ad16c444-76a5-4151-aa0f-06a2f5b1850e",
   "metadata": {},
   "outputs": [],
   "source": [
    "df_courses.rename(columns={'course_clean_x': 'all_courses', 'course_clean_y': 'dropped_courses'}, inplace=True)"
   ]
  },
  {
   "cell_type": "code",
   "execution_count": null,
   "id": "33d10acb-a54e-41d7-a7eb-15f165c16903",
   "metadata": {},
   "outputs": [],
   "source": [
    "def get_retained_courses(row):\n",
    "    if not isinstance(row['dropped_courses'], list):\n",
    "        return row['all_courses']\n",
    "    if not isinstance(row['all_courses'], list):\n",
    "        return row['all_courses']\n",
    "    all_courses_set = set(row['all_courses'])\n",
    "    dropped_courses_set = set(row['dropped_courses'])\n",
    "    retained_courses_set = all_courses_set - dropped_courses_set\n",
    "    return list(retained_courses_set)\n",
    "df_courses['retained_courses'] = df_courses.apply(lambda row: get_retained_courses(row), axis=1)"
   ]
  },
  {
   "cell_type": "code",
   "execution_count": null,
   "id": "7f45da97-0422-4efa-b149-28bfc3bab311",
   "metadata": {},
   "outputs": [],
   "source": [
    "all_courses_cla, dropped_courses_cla = [], []\n",
    "for _, row in tqdm(df_courses.iterrows()):\n",
    "    sem = row['semester_clean']\n",
    "    row_all_courses_cla = []\n",
    "    if not isinstance(row['all_courses'], list):\n",
    "        all_courses_cla.append(['NONE'])\n",
    "    else:\n",
    "        for course in row['all_courses']:\n",
    "            if sem in cla_dict:\n",
    "                row_all_courses_cla.append(cla_dict.get(sem).get(course))\n",
    "            else:\n",
    "                row_all_courses_cla.append(cla_dict.get('overall').get(course))\n",
    "        all_courses_cla.append(row_all_courses_cla)\n",
    "    row_dropped_courses_cla = []\n",
    "    if not isinstance(row['dropped_courses'], list):\n",
    "        dropped_courses_cla.append(['NONE'])\n",
    "        continue \n",
    "    for course in row['dropped_courses']:\n",
    "        if sem in cla_dict:\n",
    "            row_dropped_courses_cla.append(cla_dict.get(sem).get(course))\n",
    "        else:\n",
    "            row_dropped_courses_cla.append(cla_dict.get('overall').get(course))\n",
    "    dropped_courses_cla.append(row_dropped_courses_cla)\n",
    "df_courses['all_courses_cla'] = all_courses_cla\n",
    "df_courses['dropped_courses_cla'] = dropped_courses_cla"
   ]
  },
  {
   "cell_type": "code",
   "execution_count": null,
   "id": "b98bb69f-4a51-4243-98ba-1aeb880980a4",
   "metadata": {},
   "outputs": [],
   "source": [
    "retained_courses_cla = []\n",
    "for _, row in tqdm(df_courses.iterrows()):\n",
    "    sem = row['semester_clean']\n",
    "    row_retained_courses_cla = []\n",
    "    added=False\n",
    "    if not isinstance(row['retained_courses'], list):\n",
    "        retained_courses_cla.append(['NONE'])\n",
    "    else:\n",
    "        for course in row['retained_courses']:\n",
    "            if sem in cla_dict:\n",
    "                row_retained_courses_cla.append(cla_dict.get(sem).get(course))\n",
    "            else:\n",
    "                row_retained_courses_cla.append(cla_dict.get('overall').get(course))\n",
    "        retained_courses_cla.append(row_retained_courses_cla)\n",
    "df_courses['retained_courses_cla'] = retained_courses_cla"
   ]
  },
  {
   "cell_type": "code",
   "execution_count": null,
   "id": "d6eedb3c-a594-4450-98b5-470545977132",
   "metadata": {},
   "outputs": [],
   "source": [
    "df_courses_latedrop = df_courses[df_courses['dropped_courses'].map(lambda s: isinstance(s, list))].copy()"
   ]
  },
  {
   "cell_type": "code",
   "execution_count": null,
   "id": "aefc7cae-6597-42d0-9d3c-2a36f020c8a9",
   "metadata": {},
   "outputs": [],
   "source": [
    "def remove_none_and_cast_to_float(lst):\n",
    "    return [float(item) for item in lst if item is not None and item!='NONE']"
   ]
  },
  {
   "cell_type": "code",
   "execution_count": null,
   "id": "11339132-164c-4e17-b350-4cbb3496d5b8",
   "metadata": {},
   "outputs": [],
   "source": [
    "df_courses_latedrop['cla_all_m'] = df_courses_latedrop['all_courses_cla'].map(lambda l: np.mean(remove_none_and_cast_to_float(l)))\n",
    "df_courses_latedrop['cla_dropped_m'] = df_courses_latedrop['dropped_courses_cla'].map(lambda l: np.mean(remove_none_and_cast_to_float(l)))\n",
    "df_courses_latedrop['cla_retained_m'] = df_courses_latedrop['retained_courses_cla'].map(lambda l: np.mean(remove_none_and_cast_to_float(l)))"
   ]
  },
  {
   "cell_type": "code",
   "execution_count": null,
   "id": "aec0bcf9-332c-426c-bf84-2cc634205251",
   "metadata": {},
   "outputs": [],
   "source": [
    "df_courses_latedrop['cla_all_s'] = df_courses_latedrop['all_courses_cla'].map(lambda l: np.sum(remove_none_and_cast_to_float(l)))\n",
    "df_courses_latedrop['cla_dropped_s'] = df_courses_latedrop['dropped_courses_cla'].map(lambda l: np.sum(remove_none_and_cast_to_float(l)))\n",
    "df_courses_latedrop['cla_retained_s'] = df_courses_latedrop['retained_courses_cla'].map(lambda l: np.sum(remove_none_and_cast_to_float(l)))"
   ]
  },
  {
   "cell_type": "code",
   "execution_count": null,
   "id": "d14f8217-2f55-43cb-824e-d89992354412",
   "metadata": {},
   "outputs": [],
   "source": [
    "procrast_E = pd.read_csv('/data/groups/CTd/E_procrast_student_sems.csv').drop(columns=['Unnamed: 0'])"
   ]
  },
  {
   "cell_type": "code",
   "execution_count": null,
   "id": "9123001b-b574-419e-962a-c1c735f07a5d",
   "metadata": {},
   "outputs": [],
   "source": [
    "procrast_E['enrollment_procrast'] = 1"
   ]
  },
  {
   "cell_type": "code",
   "execution_count": null,
   "id": "d3825a5c-3206-4d4b-8633-5158f1d92483",
   "metadata": {},
   "outputs": [],
   "source": [
    "df_courses_latedrop_procrast = df_courses_latedrop.merge(procrast_E, how = 'left', on = ['semester_clean', 'student_id'])"
   ]
  },
  {
   "cell_type": "code",
   "execution_count": null,
   "id": "0b640fc3-444e-446d-9c66-49f8cff4dd7d",
   "metadata": {},
   "outputs": [],
   "source": [
    "df_courses_latedrop_procrast['enrollment_procrast'] =\\\n",
    "    df_courses_latedrop_procrast.enrollment_procrast.map(lambda x: 1 if not pd.isna(x) else 0)"
   ]
  },
  {
   "cell_type": "code",
   "execution_count": null,
   "id": "6776efa5-3b74-4d17-950b-cd00d8b5d0df",
   "metadata": {},
   "outputs": [],
   "source": [
    "df_courses_latedrop_procrast\\\n",
    "    .groupby('enrollment_procrast')\\\n",
    "    [['cla_all_m', 'cla_dropped_m', 'cla_retained_m', 'cla_dropped_s', 'cla_retained_s']].mean()"
   ]
  },
  {
   "cell_type": "markdown",
   "id": "cb690f68-967f-4bea-8e94-5cf24fbfd5f3",
   "metadata": {},
   "source": [
    "## Workload Differences by Procrastination Group"
   ]
  },
  {
   "cell_type": "code",
   "execution_count": null,
   "id": "f0029bb6-8eab-4f21-8096-68cdb7ab0fbb",
   "metadata": {},
   "outputs": [],
   "source": [
    "import pandas as pd\n",
    "import numpy as np\n",
    "import matplotlib.pyplot as plt\n",
    "\n",
    "# Group by 'enrollment_procrast' and calculate means\n",
    "group_means = df_courses_latedrop_procrast.groupby('enrollment_procrast')[['cla_retained_m', 'cla_dropped_m']].mean().reset_index()\n",
    "\n",
    "# Function to calculate Cohen's d\n",
    "def cohens_d(x, y):\n",
    "    nx = len(x)\n",
    "    ny = len(y)\n",
    "    dof = nx + ny - 2\n",
    "    pooled_std = np.sqrt(((nx-1)*np.std(x, ddof=1) ** 2 + (ny-1)*np.std(y, ddof=1) ** 2) / dof)\n",
    "    return (np.mean(x) - np.mean(y)) / pooled_std\n",
    "\n",
    "# Split the DataFrame by 'enrollment_procrast' groups\n",
    "df_non_procrast = df_courses_latedrop_procrast[df_courses_latedrop_procrast['enrollment_procrast'] == 0]\n",
    "df_procrast = df_courses_latedrop_procrast[df_courses_latedrop_procrast['enrollment_procrast'] == 1]\n",
    "\n",
    "# Calculate Cohen's d for 'cla_all' vs 'cla_dropped' within each group\n",
    "cohens_d_non_procrast = cohens_d(df_non_procrast['cla_retained_m'], df_non_procrast['cla_dropped_m'])\n",
    "cohens_d_procrast = cohens_d(df_procrast['cla_retained_m'], df_procrast['cla_dropped_m'])\n",
    "\n",
    "# Plotting\n",
    "fig, ax = plt.subplots()\n",
    "\n",
    "# Interaction plot\n",
    "label_d = {'cla_retained_m': 'Retained', 'cla_dropped_m': 'Dropped'}\n",
    "for label in ['cla_retained_m', 'cla_dropped_m']:\n",
    "    ax.plot(group_means['enrollment_procrast'], group_means[label], label=label_d.get(label), marker='o')\n",
    "\n",
    "# Annotate Cohen's d for each group\n",
    "ax.text(0.1, (group_means.iloc[0]['cla_retained_m'] + group_means.iloc[0]['cla_dropped_m'])/2,\n",
    "        f\"Cohen's d: {abs(cohens_d_non_procrast):.2f}\",\n",
    "        horizontalalignment='center', verticalalignment='center', fontsize=10, bbox=dict(facecolor='white', alpha=0.5))\n",
    "\n",
    "ax.text(0.9, (group_means.iloc[1]['cla_retained_m'] + group_means.iloc[1]['cla_dropped_m'])/2,\n",
    "        f\"Cohen's d: {abs(cohens_d_procrast):.2f}\",\n",
    "        horizontalalignment='center', verticalalignment='center', fontsize=10, bbox=dict(facecolor='white', alpha=0.5))\n",
    "\n",
    "# Customization\n",
    "ax.set_xticks(group_means['enrollment_procrast'])\n",
    "ax.set_xticklabels(['Non-Procrastinator', 'Procrastinator'])\n",
    "ax.set_xlabel('Enrollment Procrastination')\n",
    "ax.set_ylabel('Average Predicted Course Load')\n",
    "ax.set_title('Retained vs. Dropped Courses of Late-Dropping Students')\n",
    "ax.legend(title='', bbox_to_anchor=(0.5, 0.5), loc='center', ncol=1)\n",
    "plt.grid(True)\n",
    "plt.show()\n"
   ]
  },
  {
   "cell_type": "code",
   "execution_count": null,
   "id": "826e3c55-f232-4ff7-9b4d-8002c1cf3673",
   "metadata": {},
   "outputs": [],
   "source": [
    "from statsmodels.formula.api import ols\n",
    "from statsmodels.stats.anova import anova_lm\n",
    "\n",
    "df_long = pd.melt(df_courses_latedrop_procrast, id_vars=['enrollment_procrast'], value_vars=['cla_retained_m', 'cla_dropped_m'],\n",
    "                  var_name='course_type', value_name='score')\n",
    "\n",
    "model = ols('score ~ C(enrollment_procrast) * C(course_type)', data=df_long).fit()\n",
    "anova_results = anova_lm(model, typ=2)\n",
    "\n",
    "print(anova_results)"
   ]
  },
  {
   "cell_type": "code",
   "execution_count": null,
   "id": "fcaafe77-b9ca-403f-afe9-9749d44a3e7a",
   "metadata": {},
   "outputs": [],
   "source": [
    "import pandas as pd\n",
    "import numpy as np\n",
    "import matplotlib.pyplot as plt\n",
    "\n",
    "# Assuming df_courses_latedrop_procrast is already defined\n",
    "\n",
    "# Group by 'enrollment_procrast' and calculate means\n",
    "group_means = df_courses_latedrop_procrast.groupby('enrollment_procrast')[['cla_retained_s', 'cla_dropped_s']].mean().reset_index()\n",
    "\n",
    "# Function to calculate Cohen's d\n",
    "def cohens_d(x, y):\n",
    "    ans = np.sum(y)/np.sum([x, y])\n",
    "    return round(ans*100, 1)\n",
    "\n",
    "# Split the DataFrame by 'enrollment_procrast' groups\n",
    "df_non_procrast = df_courses_latedrop_procrast[df_courses_latedrop_procrast['enrollment_procrast'] == 0]\n",
    "df_procrast = df_courses_latedrop_procrast[df_courses_latedrop_procrast['enrollment_procrast'] == 1]\n",
    "\n",
    "# Calculate Cohen's d for 'cla_all' vs 'cla_dropped' within each group\n",
    "cohens_d_non_procrast = cohens_d(df_non_procrast['cla_retained_s'], df_non_procrast['cla_dropped_s'])\n",
    "cohens_d_procrast = cohens_d(df_procrast['cla_retained_s'], df_procrast['cla_dropped_s'])\n",
    "\n",
    "# Plotting\n",
    "fig, ax = plt.subplots()\n",
    "\n",
    "# Interaction plot\n",
    "label_d = {'cla_retained_s': 'Retained', 'cla_dropped_s': 'Dropped'}\n",
    "for label in ['cla_retained_s', 'cla_dropped_s']:\n",
    "    ax.plot(group_means['enrollment_procrast'], group_means[label], label=label_d.get(label), marker='o')\n",
    "\n",
    "# Annotate Cohen's d for each group\n",
    "ax.text(0.1, (group_means.iloc[0]['cla_retained_s'] + group_means.iloc[0]['cla_dropped_s'])/2,\n",
    "        f\"Dropped: {cohens_d_non_procrast:.1f}%\",\n",
    "        horizontalalignment='center', verticalalignment='center', fontsize=10, bbox=dict(facecolor='white', alpha=0.5))\n",
    "\n",
    "ax.text(0.9, (group_means.iloc[1]['cla_retained_s'] + group_means.iloc[1]['cla_dropped_s'])/2,\n",
    "        f\"Dropped: {cohens_d_procrast:.1f}%\",\n",
    "        horizontalalignment='center', verticalalignment='center', fontsize=10, bbox=dict(facecolor='white', alpha=0.5))\n",
    "\n",
    "# Customization\n",
    "ax.set_xticks(group_means['enrollment_procrast'])\n",
    "ax.set_xticklabels(['Non-Procrastinator', 'Procrastinator'])\n",
    "ax.set_xlabel('Enrollment Procrastination')\n",
    "ax.set_ylabel('Sum Predicted Course Load')\n",
    "ax.set_title('Retained vs. Dropped Workload of Late-Dropping Students')\n",
    "ax.legend(title='', bbox_to_anchor=(0.5, 0.4), loc='center', ncol=1)\n",
    "plt.grid(True)\n",
    "plt.show()\n"
   ]
  },
  {
   "cell_type": "code",
   "execution_count": null,
   "id": "add4659d-c8e3-46b0-afbc-05ded9a4123c",
   "metadata": {},
   "outputs": [],
   "source": [
    "from statsmodels.formula.api import ols\n",
    "from statsmodels.stats.anova import anova_lm\n",
    "\n",
    "df_long = pd.melt(df_courses_latedrop_procrast, id_vars=['enrollment_procrast'], value_vars=['cla_retained_s', 'cla_dropped_s'],\n",
    "                  var_name='course_type', value_name='score')\n",
    "\n",
    "model = ols('score ~ C(enrollment_procrast) * C(course_type)', data=df_long).fit()\n",
    "anova_results = anova_lm(model, typ=2)\n",
    "\n",
    "print(anova_results)"
   ]
  },
  {
   "cell_type": "markdown",
   "id": "9380f2eb-3e78-4c2d-8d4a-dbaf461cd098",
   "metadata": {},
   "source": [
    "### Workload Ranking analysis"
   ]
  },
  {
   "cell_type": "code",
   "execution_count": null,
   "id": "c3489f36-5df0-4f59-99ba-0394b3e59b4a",
   "metadata": {},
   "outputs": [],
   "source": [
    "# 2.5 average imputation for missing courses\n",
    "def remove_none_and_cast_to_float(lst):\n",
    "    return [float(item) for item in lst if item is not None and item!='NONE'] \\\n",
    "           + [2.5 for item in lst if item is None or item=='NONE']"
   ]
  },
  {
   "cell_type": "code",
   "execution_count": null,
   "id": "4bdbb43c-19c5-416d-bded-498b69654c96",
   "metadata": {},
   "outputs": [],
   "source": [
    "def remove_none(lst):\n",
    "    return [item for item in lst if item is not None and item!='NONE']"
   ]
  },
  {
   "cell_type": "code",
   "execution_count": null,
   "id": "72990300-6385-4971-aecf-c3e5ebd06437",
   "metadata": {},
   "outputs": [],
   "source": [
    "# Function to rank courses and propagate ranks\n",
    "def rank_and_propagate(row):\n",
    "    all_courses = row['all_courses']\n",
    "    all_courses_cla = row['all_courses_cla']\n",
    "\n",
    "    if not isinstance(all_courses, list):\n",
    "        row['dropped_courses_ranks'] = np.nan\n",
    "        row['retained_courses_ranks'] = np.nan\n",
    "        return row\n",
    "\n",
    "    all_courses = remove_none(all_courses)\n",
    "    all_courses_cla = remove_none_and_cast_to_float(all_courses_cla)\n",
    "\n",
    "    # Create course-cla pairs and sort by CLA in descending order\n",
    "    course_cla_pairs = sorted(zip(all_courses, all_courses_cla), key=lambda x: x[1], reverse=True)\n",
    "\n",
    "    # Create ranking dictionary\n",
    "    ranking_dict = {course: rank + 1 for rank, (course, cla) in enumerate(course_cla_pairs)}\n",
    "\n",
    "    # Function to map courses to their ranks\n",
    "    def map_to_ranks(courses, ranking_dict):\n",
    "        return [ranking_dict[course] for course in courses if course in ranking_dict]\n",
    "    \n",
    "    # Apply mapping to dropped and retained courses\n",
    "    dropped_courses_ranks = map_to_ranks(remove_none(row['dropped_courses']), ranking_dict)\n",
    "    retained_courses_ranks = map_to_ranks(remove_none(row['retained_courses']), ranking_dict)\n",
    "\n",
    "    # Combine dropped and retained courses ranks\n",
    "    combined_ranks = dropped_courses_ranks + retained_courses_ranks\n",
    "\n",
    "    # Sort combined ranks\n",
    "    combined_ranks_sorted = sorted(combined_ranks)\n",
    "\n",
    "    # Reassign ranks\n",
    "    rank_map = {old_rank: new_rank + 1 for new_rank, old_rank in enumerate(combined_ranks_sorted)}\n",
    "\n",
    "    # Map the new ranks back to dropped and retained courses\n",
    "    row['dropped_courses_ranks'] = [rank_map[rank] for rank in dropped_courses_ranks]\n",
    "    row['retained_courses_ranks'] = [rank_map[rank] for rank in retained_courses_ranks]\n",
    "    return row\n",
    "\n",
    "# Apply the function row-wise\n",
    "tqdm.pandas()\n",
    "df_courses_latedrop_rank = df_courses_latedrop.progress_apply(rank_and_propagate, axis=1)"
   ]
  },
  {
   "cell_type": "code",
   "execution_count": null,
   "id": "4647a234-5d0e-4e1d-a2f2-fca810c0024e",
   "metadata": {},
   "outputs": [],
   "source": [
    "from collections import Counter\n",
    "\n",
    "all_ranks = df_courses_latedrop_rank.dropped_courses_ranks.explode().tolist()\n",
    "all_ranks = [rank for rank in all_ranks if rank is not None]\n",
    "rank_counts = Counter(all_ranks)\n",
    "\n",
    "rank_counts\n",
    "\n",
    "all_ranks = df_courses_latedrop_rank.retained_courses_ranks.explode().tolist()\n",
    "all_ranks = [rank for rank in all_ranks if rank is not None]\n",
    "rank_counts = Counter(all_ranks)"
   ]
  },
  {
   "cell_type": "code",
   "execution_count": null,
   "id": "5f2439cf-827d-4b49-a7fd-1fa4c66ede20",
   "metadata": {},
   "outputs": [],
   "source": [
    "df_courses_latedrop_rank2 = df_courses_latedrop_rank.merge(df_courses_latedrop_procrast[['student_id', 'semester_clean', 'enrollment_procrast']],\n",
    "                               how='left', on=['student_id', 'semester_clean'])"
   ]
  },
  {
   "cell_type": "code",
   "execution_count": null,
   "id": "a5f40ee8-e383-4c5b-a0e5-d266bc0c510a",
   "metadata": {},
   "outputs": [],
   "source": [
    "# Import necessary libraries\n",
    "import pandas as pd\n",
    "from scipy.stats import ranksums\n",
    "import matplotlib.pyplot as plt\n",
    "import numpy as np\n",
    "\n",
    "# Assuming df_courses_latedrop_rank is your DataFrame\n",
    "# Extracting the ranks for procrastination group (enrollment_procrast == 1)\n",
    "tmp_procrast = df_courses_latedrop_rank2[df_courses_latedrop_rank2['enrollment_procrast']==1].copy()\n",
    "\n",
    "# Extracting the ranks for non-procrastination group (enrollment_procrast == 0)\n",
    "tmp_non_procrast = df_courses_latedrop_rank2[df_courses_latedrop_rank2['enrollment_procrast']==0].copy()\n",
    "\n",
    "# Dropped and retained ranks for procrastination group\n",
    "dropped_ranks_procrast = tmp_procrast.dropped_courses_ranks.explode().dropna().tolist()\n",
    "retained_ranks_procrast = tmp_procrast.retained_courses_ranks.explode().dropna().tolist()\n",
    "\n",
    "# Dropped and retained ranks for non-procrastination group\n",
    "dropped_ranks_non_procrast = tmp_non_procrast.dropped_courses_ranks.explode().dropna().tolist()\n",
    "retained_ranks_non_procrast = tmp_non_procrast.retained_courses_ranks.explode().dropna().tolist()"
   ]
  },
  {
   "cell_type": "code",
   "execution_count": null,
   "id": "33d7f61f-9ff6-452c-b2f1-9cec02cc4db6",
   "metadata": {},
   "outputs": [],
   "source": [
    "# Filtering ranks less than 6\n",
    "dropped_ranks_procrast = [r for r in dropped_ranks_procrast if r < 6]\n",
    "retained_ranks_procrast = [r for r in retained_ranks_procrast if r < 6]\n",
    "\n",
    "dropped_ranks_non_procrast = [r for r in dropped_ranks_non_procrast if r < 6]\n",
    "retained_ranks_non_procrast = [r for r in retained_ranks_non_procrast if r < 6]\n",
    "\n",
    "# Define bin edges and bin centers\n",
    "bins = range(1, 7)  # Bins from 1 to 6\n",
    "bin_centers = [(bins[i] + bins[i + 1]) / 2 for i in range(len(bins) - 1)]\n",
    "\n",
    "# Visualizing the rank distributions using histograms in two panels\n",
    "plt.rcParams.update({'font.size': 16})\n",
    "fig, axes = plt.subplots(nrows=1, ncols=2, figsize=(16, 6), sharey=True)\n",
    "\n",
    "# Plotting histogram for dropped ranks in procrastination group\n",
    "axes[0].hist(dropped_ranks_procrast, bins=bins, alpha=0.75, edgecolor='black', rwidth=0.8)\n",
    "axes[0].set_title('Dropped Courses (Procrastination)')\n",
    "axes[0].set_xlabel('Rank')\n",
    "axes[0].set_ylabel('Number of Courses')\n",
    "axes[0].set_xticks(bin_centers)\n",
    "axes[0].set_xticklabels([str(int(center)) for center in bin_centers])\n",
    "\n",
    "# Plotting histogram for dropped ranks in non-procrastination group\n",
    "axes[1].hist(dropped_ranks_non_procrast, bins=bins, alpha=0.75, edgecolor='black', rwidth=0.8)\n",
    "axes[1].set_title('Dropped Courses (Non-Procrastination)')\n",
    "axes[1].set_xlabel('Rank')\n",
    "axes[1].set_xticks(bin_centers)\n",
    "axes[1].set_xticklabels([str(int(center)) for center in bin_centers])\n",
    "\n",
    "plt.show()"
   ]
  },
  {
   "cell_type": "code",
   "execution_count": null,
   "id": "91a35438-fef5-4a3e-b8c2-bb6e8d3b7719",
   "metadata": {},
   "outputs": [],
   "source": [
    "def plot_ranks():\n",
    "    # Import necessary libraries\n",
    "    import pandas as pd\n",
    "    import matplotlib.pyplot as plt\n",
    "\n",
    "    def get_data(n_courses_total):\n",
    "        df_courses_latedrop_rank3 = df_courses_latedrop_rank2[\n",
    "            (df_courses_latedrop_rank2.dropped_courses_ranks.map(lambda x: 0 if not isinstance(x, list) else len(x)) +\n",
    "             df_courses_latedrop_rank2.retained_courses_ranks.map(lambda x: 0 if not isinstance(x, list) else len(x))) == n_courses_total]\n",
    "\n",
    "        # Extracting the ranks for procrastination group (enrollment_procrast == 1)\n",
    "        tmp_procrast = df_courses_latedrop_rank3[df_courses_latedrop_rank3['enrollment_procrast'] == 1].copy()\n",
    "        \n",
    "        # Extracting the ranks for non-procrastination group (enrollment_procrast == 0)\n",
    "        tmp_non_procrast = df_courses_latedrop_rank3[df_courses_latedrop_rank3['enrollment_procrast'] == 0].copy()\n",
    "        \n",
    "        # Dropped and retained ranks for procrastination group\n",
    "        dropped_ranks_procrast = tmp_procrast.dropped_courses_ranks.explode().dropna().tolist()\n",
    "        retained_ranks_procrast = tmp_procrast.retained_courses_ranks.explode().dropna().tolist()\n",
    "        \n",
    "        # Dropped and retained ranks for non-procrastination group\n",
    "        dropped_ranks_non_procrast = tmp_non_procrast.dropped_courses_ranks.explode().dropna().tolist()\n",
    "        retained_ranks_non_procrast = tmp_non_procrast.retained_courses_ranks.explode().dropna().tolist()\n",
    "        \n",
    "        # Value counts for ranks\n",
    "        dropped_ranks_procrast_count = pd.Series(dropped_ranks_procrast).value_counts(normalize=True) * 100\n",
    "        retained_ranks_procrast_count = pd.Series(retained_ranks_procrast).value_counts(normalize=True) * 100\n",
    "        \n",
    "        dropped_ranks_non_procrast_count = pd.Series(dropped_ranks_non_procrast).value_counts(normalize=True) * 100\n",
    "        retained_ranks_non_procrast_count = pd.Series(retained_ranks_non_procrast).value_counts(normalize=True) * 100\n",
    "        \n",
    "        # Combine counts for plotting\n",
    "        dropped_ranks_count = pd.DataFrame({\n",
    "            'Procrastination': dropped_ranks_procrast_count,\n",
    "            'Non-Procrastination': dropped_ranks_non_procrast_count\n",
    "        }).fillna(0).sort_index()\n",
    "        \n",
    "        retained_ranks_count = pd.DataFrame({\n",
    "            'Procrastination': retained_ranks_procrast_count,\n",
    "            'Non-Procrastination': retained_ranks_non_procrast_count\n",
    "        }).fillna(0).sort_index()\n",
    "\n",
    "        return dropped_ranks_count\n",
    "\n",
    "    # Define n_courses_total values to iterate over\n",
    "    nns = [4, 5, 6, 7]\n",
    "    \n",
    "    # Setting up the plot\n",
    "    plt.rcParams.update({'font.size': 14})\n",
    "    fig, axes = plt.subplots(nrows=1, ncols=len(nns), figsize=(20, 6), sharey=True)\n",
    "    \n",
    "    for i, n in enumerate(nns):\n",
    "        dropped_ranks_count = get_data(n)\n",
    "        dropped_ranks_count.plot(kind='bar', ax=axes[i], alpha=0.75, edgecolor='black', legend=False, rot=0)\n",
    "        axes[i].set_title(f'n={n}')\n",
    "        axes[i].set_xlabel('Predicted Workload Rank')\n",
    "        if i == 0:\n",
    "            axes[i].set_ylabel('% of Courses')\n",
    "        \n",
    "        # Draw a horizontal line at y = 100 / n\n",
    "        axes[i].axhline(y=100/n, color='red', linestyle='--')\n",
    "\n",
    "    # Single title for all plots\n",
    "    fig.suptitle('', fontsize=20)\n",
    "    \n",
    "    # Single color legend\n",
    "    handles, labels = axes[0].get_legend_handles_labels()\n",
    "    fig.legend(handles, labels, loc='upper center', ncol=2, title='Group')\n",
    "\n",
    "    plt.tight_layout(rect=[0, 0, 1, 0.95])  # Adjust layout to accommodate title and legend\n",
    "    plt.show()\n"
   ]
  },
  {
   "cell_type": "code",
   "execution_count": null,
   "id": "7850b7f8-6b00-43e6-b003-ea27a0e65f99",
   "metadata": {
    "scrolled": true
   },
   "outputs": [],
   "source": [
    "plot_ranks()"
   ]
  },
  {
   "cell_type": "code",
   "execution_count": null,
   "id": "eb4a94af-f649-4c4c-8fe4-7acea606c0eb",
   "metadata": {},
   "outputs": [],
   "source": [
    "# Dropped and retained courses count for procrastination group\n",
    "\n",
    "tmp_procrast = df_courses_latedrop_rank2[df_courses_latedrop_rank2['enrollment_procrast'] == 1].copy()\n",
    "tmp_non_procrast = df_courses_latedrop_rank2[df_courses_latedrop_rank2['enrollment_procrast'] == 0].copy()\n",
    "\n",
    "dropped_courses_procrast = tmp_procrast['dropped_courses'].map(len).value_counts()\n",
    "retained_courses_procrast = tmp_procrast['retained_courses'].map(len).value_counts()\n",
    "\n",
    "# Dropped and retained courses count for non-procrastination group\n",
    "dropped_courses_non_procrast = tmp_non_procrast['dropped_courses'].map(lambda x: 0 if not isinstance(x, list) else len(x)).value_counts()\n",
    "retained_courses_non_procrast = tmp_non_procrast['retained_courses'].map(lambda x: 0 if not isinstance(x, list) else len(x)).value_counts()\n",
    "\n",
    "# Combine counts for plotting\n",
    "dropped_courses_count = pd.DataFrame({\n",
    "    'Procrastination': dropped_courses_procrast,\n",
    "    'Non-Procrastination': dropped_courses_non_procrast\n",
    "}).fillna(0).astype(int)\n",
    "\n",
    "retained_courses_count = pd.DataFrame({\n",
    "    'Procrastination': retained_courses_procrast,\n",
    "    'Non-Procrastination': retained_courses_non_procrast\n",
    "}).fillna(0).astype(int)\n",
    "\n",
    "# Calculate percentages\n",
    "retained_courses_count['Procrastination'] = retained_courses_count['Procrastination'] / sum(retained_courses_count['Procrastination']) * 100\n",
    "retained_courses_count['Non-Procrastination'] = retained_courses_count['Non-Procrastination'] / sum(retained_courses_count['Non-Procrastination']) * 100\n",
    "\n",
    "dropped_courses_count['Procrastination'] = dropped_courses_count['Procrastination'] / sum(dropped_courses_count['Procrastination']) * 100\n",
    "dropped_courses_count['Non-Procrastination'] = dropped_courses_count['Non-Procrastination'] / sum(dropped_courses_count['Non-Procrastination']) * 100\n",
    "\n",
    "# Visualizing the number of courses using bar plots in two panels\n",
    "plt.rcParams.update({'font.size': 16})\n",
    "fig, axes = plt.subplots(nrows=1, ncols=2, figsize=(16, 6), sharey=True)\n",
    "\n",
    "# Plotting bar plot for dropped courses\n",
    "dropped_courses_count.loc[1:10].plot(kind='bar', ax=axes[0], alpha=0.75, edgecolor='black')\n",
    "axes[0].set_title('Dropped Courses')\n",
    "axes[0].set_xlabel('# Courses')\n",
    "axes[0].set_ylabel('% of Student Semesters')\n",
    "axes[0].legend(title='Group')\n",
    "\n",
    "# Plotting bar plot for retained courses\n",
    "retained_courses_count.loc[1:10].plot(kind='bar', ax=axes[1], alpha=0.75, edgecolor='black')\n",
    "axes[1].set_title('Retained Courses')\n",
    "axes[1].set_xlabel('# Courses')\n",
    "axes[1].legend(title='Group')\n",
    "\n",
    "plt.show()"
   ]
  },
  {
   "cell_type": "code",
   "execution_count": null,
   "id": "cd93abdc-659a-40e8-84b8-f6be044ac168",
   "metadata": {},
   "outputs": [],
   "source": [
    "# Extracting the data for procrastination group (enrollment_procrast == 1)\n",
    "tmp_procrast = df_courses_latedrop_rank2[df_courses_latedrop_rank2['enrollment_procrast'] == 1].copy()\n",
    "\n",
    "# Extracting the data for non-procrastination group (enrollment_procrast == 0)\n",
    "tmp_non_procrast = df_courses_latedrop_rank2[df_courses_latedrop_rank2['enrollment_procrast'] == 0].copy()\n",
    "\n",
    "# Dropped and retained courses count for procrastination group\n",
    "dropped_courses_procrast = tmp_procrast['dropped_courses'].map(len).value_counts()\n",
    "retained_courses_procrast = tmp_procrast['retained_courses'].map(len).value_counts()\n",
    "\n",
    "# Dropped and retained courses count for non-procrastination group\n",
    "dropped_courses_non_procrast = tmp_non_procrast['dropped_courses'].map(lambda x: 0 if not isinstance(x, list)  else len(x)).value_counts()\n",
    "retained_courses_non_procrast = tmp_non_procrast['retained_courses'].map(lambda x: 0 if not isinstance(x, list) else len(x)).value_counts()\n",
    "\n",
    "# Combine counts for plotting\n",
    "dropped_courses_count = pd.DataFrame({\n",
    "    'Procrastination': dropped_courses_procrast,\n",
    "    'Non-Procrastination': dropped_courses_non_procrast\n",
    "}).fillna(0).astype(int)\n",
    "\n",
    "retained_courses_count = pd.DataFrame({\n",
    "    'Procrastination': retained_courses_procrast,\n",
    "    'Non-Procrastination': retained_courses_non_procrast\n",
    "}).fillna(0).astype(int)\n",
    "\n",
    "retained_courses_count['Procrastination'] = retained_courses_count['Procrastination']/sum(retained_courses_count['Procrastination'])*100\n",
    "retained_courses_count['Non-Procrastination'] = retained_courses_count['Non-Procrastination']/sum(retained_courses_count['Non-Procrastination'])*100\n",
    "\n",
    "dropped_courses_count['Procrastination'] = dropped_courses_count['Procrastination']/sum(dropped_courses_count['Procrastination'])*100\n",
    "dropped_courses_count['Non-Procrastination'] = dropped_courses_count['Non-Procrastination']/sum(dropped_courses_count['Non-Procrastination'])*100\n",
    "\n",
    "# Visualizing the number of courses using bar plots in two panels\n",
    "plt.rcParams.update({'font.size': 16})\n",
    "fig, axes = plt.subplots(nrows=1, ncols=2, figsize=(16, 6), sharey=True)\n",
    "\n",
    "# Plotting bar plot for dropped courses\n",
    "dropped_courses_count.loc[1:10].plot(kind='bar', ax=axes[0], alpha=0.75, edgecolor='black')\n",
    "axes[0].set_title('Dropped Courses')\n",
    "axes[0].set_xlabel('# Courses')\n",
    "axes[0].set_ylabel('% of Student Semesters')\n",
    "axes[0].legend(title='Group')\n",
    "\n",
    "# Plotting bar plot for retained courses\n",
    "retained_courses_count.loc[1:10].plot(kind='bar', ax=axes[1], alpha=0.75, edgecolor='black')\n",
    "axes[1].set_title('Retained Courses')\n",
    "axes[1].set_xlabel('# Courses')\n",
    "axes[1].legend(title='Group')\n",
    "\n",
    "plt.show()"
   ]
  },
  {
   "cell_type": "code",
   "execution_count": null,
   "id": "3fd18faf-bd35-465e-88b3-5a8e95e0deed",
   "metadata": {},
   "outputs": [],
   "source": [
    "# Workload (courses, credits, workload) by 2x2 late drop x late shop"
   ]
  },
  {
   "cell_type": "code",
   "execution_count": null,
   "id": "ebb305d4-1426-417b-859c-3ec874aba374",
   "metadata": {},
   "outputs": [],
   "source": [
    "df_courses['late_dropped'] = df_courses.dropped_courses.map(lambda x: 1 if isinstance(x, list) else 0 if pd.isna(x) else 1)\n",
    "\n",
    "df_courses['n_courses'] = df_courses['all_courses'].map(lambda x: len(x) if isinstance(x, list) else 0)\n",
    "\n",
    "df_courses['cla_sum'] = df_courses.all_courses_cla.map(lambda l: np.sum(remove_none_and_cast_to_float(l)))\n",
    "\n",
    "df_analysis_desc = df_courses[['student_id', 'semester_clean', 'late_dropped', 'n_courses', 'cla_sum']]\\\n",
    "    .merge(df[['student_id', 'semester_clean', 'relative_location_btw_phase1_add_drop_ddl_E_all_phases']], how='left', on=['student_id', 'semester_clean'])\\\n",
    "    .dropna()    \n",
    "\n",
    "ref = np.median(df_analysis_desc['relative_location_btw_phase1_add_drop_ddl_E_all_phases'])\n",
    "\n",
    "df_analysis_desc['procrast'] = df_analysis_desc.relative_location_btw_phase1_add_drop_ddl_E_all_phases\\\n",
    "    .map(lambda x: 1 if x>ref else 0)"
   ]
  },
  {
   "cell_type": "code",
   "execution_count": null,
   "id": "660fbb53-d4d1-45d4-befb-426583067ef9",
   "metadata": {},
   "outputs": [],
   "source": [
    "df_analysis_desc\\\n",
    "    .groupby(['procrast', 'late_dropped'])\\\n",
    "    [['n_courses', 'cla_sum']]\\\n",
    "    .mean()"
   ]
  },
  {
   "cell_type": "code",
   "execution_count": null,
   "id": "8e116403-f62f-473c-972e-5231930818c7",
   "metadata": {},
   "outputs": [],
   "source": [
    "df_analysis_desc\\\n",
    "    .groupby(['procrast'])\\\n",
    "    [['n_courses', 'cla_sum']]\\\n",
    "    .mean()"
   ]
  },
  {
   "cell_type": "code",
   "execution_count": null,
   "id": "7d701c18-571b-464d-9fd8-8e173dd43555",
   "metadata": {},
   "outputs": [],
   "source": [
    "df_analysis_desc\\\n",
    "    .groupby(['procrast'])\\\n",
    "    [['n_courses', 'cla_sum']]\\\n",
    "    .mean()/10.230532\t"
   ]
  },
  {
   "cell_type": "code",
   "execution_count": null,
   "id": "37d80218-db1b-44ed-a9a2-ab928a3f845f",
   "metadata": {},
   "outputs": [],
   "source": [
    "df_analysis_desc\\\n",
    "    .groupby(['procrast'])\\\n",
    "    [['n_courses', 'cla_sum']]\\\n",
    "    .mean()/27.172229"
   ]
  },
  {
   "cell_type": "code",
   "execution_count": null,
   "id": "b83dd99b-cf46-4060-9221-34363b4ba1a7",
   "metadata": {},
   "outputs": [],
   "source": []
  },
  {
   "cell_type": "code",
   "execution_count": null,
   "id": "ea8228af-d5cd-4960-97ee-560975c1ede3",
   "metadata": {},
   "outputs": [],
   "source": [
    "df_analysis_desc\\\n",
    "    .groupby(['late_dropped'])\\\n",
    "    [['n_courses', 'cla_sum']]\\\n",
    "    .mean()\t"
   ]
  },
  {
   "cell_type": "code",
   "execution_count": null,
   "id": "96ce8a46-0f43-4e53-b2db-c1e5532cc246",
   "metadata": {},
   "outputs": [],
   "source": [
    "df_analysis_desc\\\n",
    "    .groupby(['late_dropped'])\\\n",
    "    [['n_courses', 'cla_sum']]\\\n",
    "    .mean()\t/10.916221"
   ]
  },
  {
   "cell_type": "code",
   "execution_count": null,
   "id": "b674b349-a598-4aaa-876b-4a2d97143877",
   "metadata": {},
   "outputs": [],
   "source": [
    "df_analysis_desc\\\n",
    "    .groupby(['late_dropped'])\\\n",
    "    [['n_courses', 'cla_sum']]\\\n",
    "    .mean()\t/28.997658"
   ]
  },
  {
   "cell_type": "code",
   "execution_count": null,
   "id": "0360f118-bb71-49ec-b810-360958e6ca6a",
   "metadata": {},
   "outputs": [],
   "source": []
  },
  {
   "cell_type": "code",
   "execution_count": null,
   "id": "b6453d5d-7b42-44f5-ab9d-3308a6549e63",
   "metadata": {},
   "outputs": [],
   "source": [
    "df_analysis_desc\\\n",
    "    .groupby(['procrast', 'late_dropped'])\\\n",
    "    [['n_courses', 'cla_sum']]\\\n",
    "    .mean()/10.136084 # Courses"
   ]
  },
  {
   "cell_type": "code",
   "execution_count": null,
   "id": "ca1ac69d-0911-41e2-9334-e9dc78819ee3",
   "metadata": {},
   "outputs": [],
   "source": [
    "df_analysis_desc\\\n",
    "    .groupby(['procrast', 'late_dropped'])\\\n",
    "    [['n_courses', 'cla_sum']]\\\n",
    "    .mean()/26.913211 # CLA"
   ]
  },
  {
   "cell_type": "code",
   "execution_count": null,
   "id": "11e60c97-0e24-4b68-bf1d-1e98049f220f",
   "metadata": {},
   "outputs": [],
   "source": [
    "df_courses['late_dropped'] = df_courses.dropped_courses.map(lambda x: 1 if isinstance(x, list) else 0 if pd.isna(x) else 1)\n",
    "\n",
    "df_courses['n_courses'] = df_courses['all_courses'].map(lambda x: len(x) if isinstance(x, list) else 0)\n",
    "\n",
    "df_courses['cla_retained'] = df_courses.retained_courses_cla.map(lambda l: np.sum(remove_none_and_cast_to_float(l)))\n",
    "\n",
    "df_analysis_desc = df_courses[['student_id', 'semester_clean', 'late_dropped', 'n_courses', 'cla_retained']]\\\n",
    "    .merge(df[['student_id', 'semester_clean', 'relative_location_btw_phase1_add_drop_ddl_E_all_phases']], how='left', on=['student_id', 'semester_clean'])\\\n",
    "    .dropna()    \n",
    "\n",
    "ref = np.median(df_analysis_desc['relative_location_btw_phase1_add_drop_ddl_E_all_phases'])\n",
    "\n",
    "df_analysis_desc['procrast'] = df_analysis_desc.relative_location_btw_phase1_add_drop_ddl_E_all_phases\\\n",
    "    .map(lambda x: 1 if x>ref else 0)"
   ]
  },
  {
   "cell_type": "code",
   "execution_count": null,
   "id": "55631dd4-1a69-4db5-a445-4fa53fb60f81",
   "metadata": {},
   "outputs": [],
   "source": [
    "df_analysis_desc\\\n",
    "    .groupby(['procrast', 'late_dropped'])\\\n",
    "    [['n_courses', 'cla_retained']]\\\n",
    "    .mean()"
   ]
  },
  {
   "cell_type": "code",
   "execution_count": null,
   "id": "ec690a3f-5eaa-4f05-afdc-c03e4f36d68f",
   "metadata": {},
   "outputs": [],
   "source": [
    "df_analysis_desc\\\n",
    "    .groupby(['procrast', 'late_dropped'])\\\n",
    "    [['n_courses', 'cla_retained']]\\\n",
    "    .mean()/26.913211"
   ]
  },
  {
   "cell_type": "code",
   "execution_count": null,
   "id": "45565e9a-7839-49a9-b047-272d2fe9e22c",
   "metadata": {},
   "outputs": [],
   "source": [
    "df_analysis_desc\\\n",
    "    .groupby(['procrast', 'late_dropped'])\\\n",
    "    [['n_courses', 'cla_retained']]\\\n",
    "    .mean()/15.416705"
   ]
  },
  {
   "cell_type": "code",
   "execution_count": null,
   "id": "488608d8-e7f4-4a2a-87a6-6d1fbdabdb05",
   "metadata": {},
   "outputs": [],
   "source": [
    "df_analysis_desc\\\n",
    "    .groupby(['procrast'])\\\n",
    "    [['n_courses', 'cla_retained']]\\\n",
    "    .mean()"
   ]
  },
  {
   "cell_type": "code",
   "execution_count": null,
   "id": "cdf9b24d-8c14-4eb9-8257-fffab26f9cbd",
   "metadata": {},
   "outputs": [],
   "source": [
    "df_analysis_desc\\\n",
    "    .groupby(['procrast'])\\\n",
    "    [['n_courses', 'cla_retained']]\\\n",
    "    .mean()/25.254182"
   ]
  },
  {
   "cell_type": "code",
   "execution_count": null,
   "id": "e2047c60-d2e4-4505-860c-d17837723892",
   "metadata": {},
   "outputs": [],
   "source": [
    "df_analysis_desc\\\n",
    "    .groupby(['late_dropped'])\\\n",
    "    [['n_courses', 'cla_retained']]\\\n",
    "    .mean()\t"
   ]
  },
  {
   "cell_type": "code",
   "execution_count": null,
   "id": "dcda6b74-0edc-45e4-8069-a9ef46725398",
   "metadata": {},
   "outputs": [],
   "source": [
    "df_analysis_desc\\\n",
    "    .groupby(['late_dropped'])\\\n",
    "    [['n_courses', 'cla_retained']]\\\n",
    "    .mean()\t/28.997658"
   ]
  },
  {
   "cell_type": "markdown",
   "id": "6b5c6f9e-93df-4d86-9eba-124271a76eed",
   "metadata": {},
   "source": [
    "### What courses were late-added?"
   ]
  },
  {
   "cell_type": "code",
   "execution_count": null,
   "id": "220208ee-8387-4d85-bca9-77b417f039d5",
   "metadata": {},
   "outputs": [],
   "source": [
    "def get_adds():\n",
    "    df = pd.read_csv('~/student_enrollment_requests_non_pii_data_may4.csv')\n",
    "    semester_dict = {'2012 Fall': 2128,'2013 Spring': 2132,'2013 Summer': 2135,'2013 Fall': 2138,'2014 Spring': 2142,'2014 Summer': 2145,'2014 Fall': 2148,'2015 Spring': 2152,'2015 Summer': 2155,'2015 Fall': 2158,'2016 Spring': 2162,'2016 Summer': 2165,'2016 Fall': 2168,'2017 Spring': 2172,'2017 Summer': 2175,'2017 Fall': 2178,'2018 Spring': 2182,'2018 Summer': 2185,'2018 Fall': 2188,'2019 Spring': 2192,'2019 Summer': 2195,'2019 Fall': 2198,'2020 Spring': 2202,'2020 Summer': 2205,'2020 Fall': 2208,'2021 Spring': 2212,'2021 Summer': 2215,'2021 Fall': 2218,'2022 Spring': 2222,'2022 Summer': 2225,'2022 Fall': 2228}\n",
    "    semester_dict = {v: k for k, v in semester_dict.items()}\n",
    "    df['semester_clean'] = df.semester_year_term_cd.map(semester_dict)\n",
    "    df['course_clean'] = df.subject_desc.map(str)  + ' ' + df['course_number'].map(str) \n",
    "    df_filtered = df[ (df['action_affects_enrollment_status_flag']=='Y') & (df['enrollment_intitiator_type']=='Student')]\n",
    "    return df_filtered"
   ]
  },
  {
   "cell_type": "code",
   "execution_count": null,
   "id": "c5f8d0ad-0d10-4a6c-a41a-d27bfc4dbb4f",
   "metadata": {},
   "outputs": [],
   "source": [
    "df_adds = get_adds()"
   ]
  },
  {
   "cell_type": "code",
   "execution_count": null,
   "id": "d76598d2-0f15-4665-a14d-142e03fc26d6",
   "metadata": {},
   "outputs": [],
   "source": [
    "df_adds['enrollment_request_tmsp']"
   ]
  },
  {
   "cell_type": "code",
   "execution_count": null,
   "id": "15c362f3-d42d-4f5d-8dbd-37c545aef7ea",
   "metadata": {},
   "outputs": [],
   "source": [
    "df_adds = df_adds.sort_values(by=['student_id', 'semester_clean', 'enrollment_request_tmsp'])"
   ]
  },
  {
   "cell_type": "code",
   "execution_count": null,
   "id": "e3df2feb-9e28-449e-8560-161b0f0cdbe9",
   "metadata": {},
   "outputs": [],
   "source": [
    "df_adds_e = df_adds[df_adds['student_enrollment_status_outcome_cd'] == 'E'].copy()"
   ]
  },
  {
   "cell_type": "code",
   "execution_count": null,
   "id": "667acf78-b659-4f82-85c1-5a1da4563406",
   "metadata": {},
   "outputs": [],
   "source": [
    "df_adds_e_s = df_adds_e[['student_id', 'semester_clean', 'course_clean']]"
   ]
  },
  {
   "cell_type": "code",
   "execution_count": null,
   "id": "a1c424fb-77ad-46b1-9809-c0f30655d253",
   "metadata": {},
   "outputs": [],
   "source": [
    "df_first_last = df_adds_e_s.groupby(['student_id', 'semester_clean']).agg(['first', 'last'])\\\n",
    "    .reset_index()"
   ]
  },
  {
   "cell_type": "code",
   "execution_count": null,
   "id": "6dc8d60f-d0de-406a-af57-bf56838132a9",
   "metadata": {},
   "outputs": [],
   "source": [
    "df_first_last.columns = ['_'.join(filter(None, col)) for col in df_first_last.columns]"
   ]
  },
  {
   "cell_type": "code",
   "execution_count": null,
   "id": "df5f86b6-ff1a-4cca-9c68-4ec97f3da091",
   "metadata": {},
   "outputs": [],
   "source": [
    "retained_courses_cla = []\n",
    "for _, row in tqdm(df_first_last.iterrows()):\n",
    "    sem = row['semester_clean']\n",
    "    course = row['course_clean_first']\n",
    "    row_retained_courses_cla = []\n",
    "    if sem in cla_dict:\n",
    "        add = cla_dict.get(sem).get(course)\n",
    "    else:\n",
    "        add = cla_dict.get('overall').get(course)\n",
    "    retained_courses_cla.append(add)\n",
    "df_first_last['course_clean_first_cla'] = retained_courses_cla"
   ]
  },
  {
   "cell_type": "code",
   "execution_count": null,
   "id": "34a68708-2072-45a2-b5db-f2f4c5992313",
   "metadata": {},
   "outputs": [],
   "source": [
    "retained_courses_cla = []\n",
    "for _, row in tqdm(df_first_last.iterrows()):\n",
    "    sem = row['semester_clean']\n",
    "    course = row['course_clean_last']\n",
    "    row_retained_courses_cla = []\n",
    "    if sem in cla_dict:\n",
    "        add = cla_dict.get(sem).get(course)\n",
    "    else:\n",
    "        add = cla_dict.get('overall').get(course)\n",
    "    retained_courses_cla.append(add)\n",
    "df_first_last['course_clean_last_cla'] = retained_courses_cla"
   ]
  },
  {
   "cell_type": "code",
   "execution_count": null,
   "id": "fddbc832-7e8d-4f50-826e-cf0676387348",
   "metadata": {},
   "outputs": [],
   "source": [
    "df_join = df_first_last\\\n",
    "    .groupby(['student_id', 'semester_clean'])\\\n",
    "    [['course_clean_first_cla', 'course_clean_last_cla']]\\\n",
    "    .mean()\\\n",
    "    .reset_index()"
   ]
  },
  {
   "cell_type": "code",
   "execution_count": null,
   "id": "b0c2bbf4-2c9f-4d8f-98d0-c2fbc17f09ef",
   "metadata": {},
   "outputs": [],
   "source": [
    "df_analysis_desc2 = df_analysis_desc.merge(df_join, how='left', on=['student_id', 'semester_clean'])"
   ]
  },
  {
   "cell_type": "code",
   "execution_count": null,
   "id": "3959044b-37dd-49c4-b1e7-071df51177d9",
   "metadata": {},
   "outputs": [],
   "source": [
    "df_analysis_desc2\\\n",
    "    .groupby(['procrast', 'late_dropped'])\\\n",
    "    [['course_clean_first_cla', 'course_clean_last_cla']]\\\n",
    "    .mean()"
   ]
  },
  {
   "cell_type": "code",
   "execution_count": null,
   "id": "75baf3ae-4a29-4e1f-82e4-f225d4e5eb78",
   "metadata": {},
   "outputs": [],
   "source": [
    "df_analysis_desc2\\\n",
    "    .groupby(['procrast'])\\\n",
    "    [['course_clean_first_cla', 'course_clean_last_cla']]\\\n",
    "    .mean()"
   ]
  },
  {
   "cell_type": "code",
   "execution_count": null,
   "id": "d4c59df5-3c75-431f-8326-fbc9df1e9f0f",
   "metadata": {},
   "outputs": [],
   "source": [
    "df_analysis_desc2\\\n",
    "    .groupby(['procrast'])\\\n",
    "    [['course_clean_first_cla', 'course_clean_last_cla']]\\\n",
    "    .mean()/2.703285"
   ]
  },
  {
   "cell_type": "code",
   "execution_count": null,
   "id": "7dc60258-ea1e-4a3d-9c37-88d4105be533",
   "metadata": {},
   "outputs": [],
   "source": [
    "df_analysis_desc2\\\n",
    "    .groupby(['procrast'])\\\n",
    "    [['course_clean_first_cla', 'course_clean_last_cla']]\\\n",
    "    .mean()/2.675813"
   ]
  },
  {
   "cell_type": "code",
   "execution_count": null,
   "id": "218b97f5-7983-454e-9fd3-461275b03b0c",
   "metadata": {},
   "outputs": [],
   "source": [
    "df_analysis_desc2\\\n",
    "    .groupby(['late_dropped'])\\\n",
    "    [['course_clean_first_cla', 'course_clean_last_cla']]\\\n",
    "    .mean()/2.676555"
   ]
  },
  {
   "cell_type": "markdown",
   "id": "9f1d1d4f-fe09-43db-b053-388f3820e041",
   "metadata": {},
   "source": [
    "## Export for Growth Curve Modeling in R"
   ]
  },
  {
   "cell_type": "code",
   "execution_count": null,
   "id": "3bffaa0e",
   "metadata": {},
   "outputs": [],
   "source": [
    "df_analysis['semester_clean'] = df_analysis.semester_clean.map(lambda s: s.replace('Fall', '2 Fall').replace('Spring', '1 Spring'))"
   ]
  },
  {
   "cell_type": "code",
   "execution_count": null,
   "id": "c943bf89",
   "metadata": {},
   "outputs": [],
   "source": [
    "df_analysis = df_analysis.sort_values(by=['student_id', 'semester_clean'])"
   ]
  },
  {
   "cell_type": "code",
   "execution_count": null,
   "id": "db138cdd",
   "metadata": {},
   "outputs": [],
   "source": [
    "df_analysis['semester_count'] = df_analysis.groupby('student_id').cumcount() + 1"
   ]
  },
  {
   "cell_type": "code",
   "execution_count": null,
   "id": "b81bf22c-e721-47ec-9375-b9e87a6968ca",
   "metadata": {},
   "outputs": [],
   "source": [
    "df_analysis.to_csv('/data/groups/CTd/jedm-analysis-dataset-growthcurve-v3.csv', index=False)"
   ]
  }
 ],
 "metadata": {
  "kernelspec": {
   "display_name": "Python 3 (ipykernel)",
   "language": "python",
   "name": "python3"
  },
  "language_info": {
   "codemirror_mode": {
    "name": "ipython",
    "version": 3
   },
   "file_extension": ".py",
   "mimetype": "text/x-python",
   "name": "python",
   "nbconvert_exporter": "python",
   "pygments_lexer": "ipython3",
   "version": "3.10.12"
  }
 },
 "nbformat": 4,
 "nbformat_minor": 5
}
